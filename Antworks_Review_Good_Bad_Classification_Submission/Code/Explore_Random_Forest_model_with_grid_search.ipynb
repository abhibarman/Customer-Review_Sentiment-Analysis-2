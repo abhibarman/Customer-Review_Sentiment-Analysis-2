{
  "nbformat": 4,
  "nbformat_minor": 0,
  "metadata": {
    "colab": {
      "name": "Explore Random Forest model with grid-search.ipynb",
      "version": "0.3.2",
      "views": {},
      "default_view": {},
      "provenance": [],
      "collapsed_sections": []
    },
    "kernelspec": {
      "name": "python3",
      "display_name": "Python 3"
    },
    "accelerator": "GPU"
  },
  "cells": [
    {
      "metadata": {
        "id": "iDWwHJ-0yp51",
        "colab_type": "text"
      },
      "cell_type": "markdown",
      "source": [
        "#                                                Review Sentiment Analysis"
      ]
    },
    {
      "metadata": {
        "id": "Xm7mJWXvhCKg",
        "colab_type": "text"
      },
      "cell_type": "markdown",
      "source": [
        "**Upload the training & test data**"
      ]
    },
    {
      "metadata": {
        "id": "m0B0cixVzNc6",
        "colab_type": "text"
      },
      "cell_type": "markdown",
      "source": [
        "As my system is not having the requied H/W configuration, will take the help of Google Colab(GPU & Python 3)."
      ]
    },
    {
      "metadata": {
        "id": "27nQ43G5bsEs",
        "colab_type": "code",
        "colab": {
          "autoexec": {
            "startup": false,
            "wait_interval": 0
          },
          "resources": {
            "http://localhost:8080/nbextensions/google.colab/files.js": {
              "data": "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",
              "ok": true,
              "headers": [
                [
                  "content-type",
                  "application/javascript"
                ]
              ],
              "status": 200,
              "status_text": ""
            }
          },
          "base_uri": "https://localhost:8080/",
          "height": 38
        },
        "outputId": "1f5ef4a2-0989-4778-a0b7-8bd7c1ecc7d0",
        "executionInfo": {
          "status": "ok",
          "timestamp": 1533499821185,
          "user_tz": -330,
          "elapsed": 33451,
          "user": {
            "displayName": "Abhijit Barman",
            "photoUrl": "//lh5.googleusercontent.com/-zlv3TDMtHqA/AAAAAAAAAAI/AAAAAAAAADA/CWXeoPl9uA4/s50-c-k-no/photo.jpg",
            "userId": "106262860855271349643"
          }
        }
      },
      "cell_type": "code",
      "source": [
        "from google.colab import files\n",
        "\n",
        "uploaded = files.upload()\n",
        "\n",
        "for fn in uploaded.keys():\n",
        "  print('User uploaded file \"{name}\" with length {length} bytes'.format(\n",
        "      name=fn, length=len(uploaded[fn])))"
      ],
      "execution_count": 8,
      "outputs": [
        {
          "output_type": "display_data",
          "data": {
            "text/html": [
              "\n",
              "     <input type=\"file\" id=\"files-9dd30c21-7e60-4c85-a76d-92b697502573\" name=\"files[]\" multiple disabled />\n",
              "     <output id=\"result-9dd30c21-7e60-4c85-a76d-92b697502573\">\n",
              "      Upload widget is only available when the cell has been executed in the\n",
              "      current browser session. Please rerun this cell to enable.\n",
              "      </output>\n",
              "      <script src=\"/nbextensions/google.colab/files.js\"></script> "
            ],
            "text/plain": [
              "<IPython.core.display.HTML object>"
            ]
          },
          "metadata": {
            "tags": []
          }
        }
      ]
    },
    {
      "metadata": {
        "id": "v1EpSrUTgr6v",
        "colab_type": "text"
      },
      "cell_type": "markdown",
      "source": [
        "**Import the required libraries**"
      ]
    },
    {
      "metadata": {
        "id": "_bCoOY8HcHyW",
        "colab_type": "code",
        "colab": {
          "autoexec": {
            "startup": false,
            "wait_interval": 0
          }
        }
      },
      "cell_type": "code",
      "source": [
        "import nltk\n",
        "import pandas as pd\n",
        "import re\n",
        "from sklearn.feature_extraction.text import TfidfVectorizer\n",
        "import string\n",
        "\n",
        "from sklearn.ensemble import RandomForestClassifier\n",
        "from sklearn.model_selection import KFold, cross_val_score\n",
        "from sklearn.model_selection import train_test_split\n",
        "from sklearn.metrics import precision_recall_fscore_support as score\n",
        "from sklearn.metrics import accuracy_score"
      ],
      "execution_count": 0,
      "outputs": []
    },
    {
      "metadata": {
        "id": "Meskpmu-hSzf",
        "colab_type": "text"
      },
      "cell_type": "markdown",
      "source": [
        "**Get the   training & test data**"
      ]
    },
    {
      "metadata": {
        "id": "Jv0_vBE4hQyk",
        "colab_type": "code",
        "colab": {
          "autoexec": {
            "startup": false,
            "wait_interval": 0
          },
          "base_uri": "https://localhost:8080/",
          "height": 180
        },
        "outputId": "4e27b5fd-8f1d-4b05-d543-3ea55ea64539",
        "executionInfo": {
          "status": "error",
          "timestamp": 1533498565175,
          "user_tz": -330,
          "elapsed": 875,
          "user": {
            "displayName": "Abhijit Barman",
            "photoUrl": "//lh5.googleusercontent.com/-zlv3TDMtHqA/AAAAAAAAAAI/AAAAAAAAADA/CWXeoPl9uA4/s50-c-k-no/photo.jpg",
            "userId": "106262860855271349643"
          }
        }
      },
      "cell_type": "code",
      "source": [
        "data = pd.read_csv('train.csv', sep='~')\n",
        "data_test = pd.read_csv('test.csv', sep='~')"
      ],
      "execution_count": 4,
      "outputs": [
        {
          "output_type": "error",
          "ename": "NameError",
          "evalue": "ignored",
          "traceback": [
            "\u001b[0;31m---------------------------------------------------------------------------\u001b[0m",
            "\u001b[0;31mNameError\u001b[0m                                 Traceback (most recent call last)",
            "\u001b[0;32m<ipython-input-4-a73e3ad15765>\u001b[0m in \u001b[0;36m<module>\u001b[0;34m()\u001b[0m\n\u001b[0;32m----> 1\u001b[0;31m \u001b[0mdata\u001b[0m \u001b[0;34m=\u001b[0m \u001b[0mpd\u001b[0m\u001b[0;34m.\u001b[0m\u001b[0mread_csv\u001b[0m\u001b[0;34m(\u001b[0m\u001b[0;34m'train.csv'\u001b[0m\u001b[0;34m,\u001b[0m \u001b[0msep\u001b[0m\u001b[0;34m=\u001b[0m\u001b[0;34m'~'\u001b[0m\u001b[0;34m)\u001b[0m\u001b[0;34m\u001b[0m\u001b[0m\n\u001b[0m\u001b[1;32m      2\u001b[0m \u001b[0mdata_test\u001b[0m \u001b[0;34m=\u001b[0m \u001b[0mpd\u001b[0m\u001b[0;34m.\u001b[0m\u001b[0mread_csv\u001b[0m\u001b[0;34m(\u001b[0m\u001b[0;34m'test.csv'\u001b[0m\u001b[0;34m,\u001b[0m \u001b[0msep\u001b[0m\u001b[0;34m=\u001b[0m\u001b[0;34m'~'\u001b[0m\u001b[0;34m)\u001b[0m\u001b[0;34m\u001b[0m\u001b[0m\n",
            "\u001b[0;31mNameError\u001b[0m: name 'pd' is not defined"
          ]
        }
      ]
    },
    {
      "metadata": {
        "id": "Rc5ddvCGhliT",
        "colab_type": "code",
        "colab": {
          "autoexec": {
            "startup": false,
            "wait_interval": 0
          },
          "base_uri": "https://localhost:8080/",
          "height": 142
        },
        "outputId": "01a3c4ac-d785-45e1-fcbb-016fba1a426d",
        "executionInfo": {
          "status": "ok",
          "timestamp": 1533496698537,
          "user_tz": -330,
          "elapsed": 943,
          "user": {
            "displayName": "Abhijit Barman",
            "photoUrl": "//lh5.googleusercontent.com/-zlv3TDMtHqA/AAAAAAAAAAI/AAAAAAAAADA/CWXeoPl9uA4/s50-c-k-no/photo.jpg",
            "userId": "106262860855271349643"
          }
        }
      },
      "cell_type": "code",
      "source": [
        "data.head(3)"
      ],
      "execution_count": 85,
      "outputs": [
        {
          "output_type": "execute_result",
          "data": {
            "text/html": [
              "<div>\n",
              "<style scoped>\n",
              "    .dataframe tbody tr th:only-of-type {\n",
              "        vertical-align: middle;\n",
              "    }\n",
              "\n",
              "    .dataframe tbody tr th {\n",
              "        vertical-align: top;\n",
              "    }\n",
              "\n",
              "    .dataframe thead th {\n",
              "        text-align: right;\n",
              "    }\n",
              "</style>\n",
              "<table border=\"1\" class=\"dataframe\">\n",
              "  <thead>\n",
              "    <tr style=\"text-align: right;\">\n",
              "      <th></th>\n",
              "      <th>User_ID</th>\n",
              "      <th>Description</th>\n",
              "      <th>Browser_Used</th>\n",
              "      <th>Device_Used</th>\n",
              "      <th>Is_Response</th>\n",
              "    </tr>\n",
              "  </thead>\n",
              "  <tbody>\n",
              "    <tr>\n",
              "      <th>0</th>\n",
              "      <td>11755</td>\n",
              "      <td>After reading mixed reviews I almost didn't bo...</td>\n",
              "      <td>Google Chrome</td>\n",
              "      <td>Desktop</td>\n",
              "      <td>Good</td>\n",
              "    </tr>\n",
              "    <tr>\n",
              "      <th>1</th>\n",
              "      <td>33912</td>\n",
              "      <td>This motor inn is located about - city blocks ...</td>\n",
              "      <td>Firefox</td>\n",
              "      <td>Tablet</td>\n",
              "      <td>Good</td>\n",
              "    </tr>\n",
              "    <tr>\n",
              "      <th>2</th>\n",
              "      <td>10143</td>\n",
              "      <td>It was our first time there and surely not our...</td>\n",
              "      <td>Google Chrome</td>\n",
              "      <td>Mobile</td>\n",
              "      <td>Good</td>\n",
              "    </tr>\n",
              "  </tbody>\n",
              "</table>\n",
              "</div>"
            ],
            "text/plain": [
              "   User_ID                                        Description   Browser_Used  \\\n",
              "0    11755  After reading mixed reviews I almost didn't bo...  Google Chrome   \n",
              "1    33912  This motor inn is located about - city blocks ...        Firefox   \n",
              "2    10143  It was our first time there and surely not our...  Google Chrome   \n",
              "\n",
              "  Device_Used Is_Response  \n",
              "0     Desktop        Good  \n",
              "1      Tablet        Good  \n",
              "2      Mobile        Good  "
            ]
          },
          "metadata": {
            "tags": []
          },
          "execution_count": 85
        }
      ]
    },
    {
      "metadata": {
        "id": "vdR_S4AWh0WS",
        "colab_type": "code",
        "colab": {
          "autoexec": {
            "startup": false,
            "wait_interval": 0
          },
          "base_uri": "https://localhost:8080/",
          "height": 34
        },
        "outputId": "2e7276ad-c9cf-47be-ab96-e30d76635bac",
        "executionInfo": {
          "status": "ok",
          "timestamp": 1533496851444,
          "user_tz": -330,
          "elapsed": 959,
          "user": {
            "displayName": "Abhijit Barman",
            "photoUrl": "//lh5.googleusercontent.com/-zlv3TDMtHqA/AAAAAAAAAAI/AAAAAAAAADA/CWXeoPl9uA4/s50-c-k-no/photo.jpg",
            "userId": "106262860855271349643"
          }
        }
      },
      "cell_type": "code",
      "source": [
        "print('Training Data Shape : {}, / Test Data Shape : {}'.format(data.shape,data_test.shape))"
      ],
      "execution_count": 87,
      "outputs": [
        {
          "output_type": "stream",
          "text": [
            "Training Data Shape : (30172, 5), / Test Data Shape : (8760, 4)\n"
          ],
          "name": "stdout"
        }
      ]
    },
    {
      "metadata": {
        "id": "TTQMuEjDh0lM",
        "colab_type": "code",
        "colab": {
          "autoexec": {
            "startup": false,
            "wait_interval": 0
          },
          "base_uri": "https://localhost:8080/",
          "height": 221
        },
        "outputId": "37f18e21-5863-4ce6-8303-3609b830ba5b",
        "executionInfo": {
          "status": "ok",
          "timestamp": 1533496884418,
          "user_tz": -330,
          "elapsed": 920,
          "user": {
            "displayName": "Abhijit Barman",
            "photoUrl": "//lh5.googleusercontent.com/-zlv3TDMtHqA/AAAAAAAAAAI/AAAAAAAAADA/CWXeoPl9uA4/s50-c-k-no/photo.jpg",
            "userId": "106262860855271349643"
          }
        }
      },
      "cell_type": "code",
      "source": [
        "data.Browser_Used.value_counts()"
      ],
      "execution_count": 88,
      "outputs": [
        {
          "output_type": "execute_result",
          "data": {
            "text/plain": [
              "Firefox              5754\n",
              "Edge                 5530\n",
              "Google Chrome        3597\n",
              "InternetExplorer     3538\n",
              "Mozilla Firefox      3340\n",
              "Mozilla              2397\n",
              "IE                   1920\n",
              "Chrome               1881\n",
              "Internet Explorer    1635\n",
              "Safari                306\n",
              "Opera                 274\n",
              "Name: Browser_Used, dtype: int64"
            ]
          },
          "metadata": {
            "tags": []
          },
          "execution_count": 88
        }
      ]
    },
    {
      "metadata": {
        "id": "rZt7Sh0mh0tO",
        "colab_type": "code",
        "colab": {
          "autoexec": {
            "startup": false,
            "wait_interval": 0
          },
          "base_uri": "https://localhost:8080/",
          "height": 85
        },
        "outputId": "937ec4e0-5b14-4884-b6b4-9d4c88772231",
        "executionInfo": {
          "status": "ok",
          "timestamp": 1533496940276,
          "user_tz": -330,
          "elapsed": 783,
          "user": {
            "displayName": "Abhijit Barman",
            "photoUrl": "//lh5.googleusercontent.com/-zlv3TDMtHqA/AAAAAAAAAAI/AAAAAAAAADA/CWXeoPl9uA4/s50-c-k-no/photo.jpg",
            "userId": "106262860855271349643"
          }
        }
      },
      "cell_type": "code",
      "source": [
        "data.Device_Used.value_counts()"
      ],
      "execution_count": 89,
      "outputs": [
        {
          "output_type": "execute_result",
          "data": {
            "text/plain": [
              "Mobile     11639\n",
              "Desktop    11630\n",
              "Tablet      6903\n",
              "Name: Device_Used, dtype: int64"
            ]
          },
          "metadata": {
            "tags": []
          },
          "execution_count": 89
        }
      ]
    },
    {
      "metadata": {
        "id": "XQiyMElXi1zj",
        "colab_type": "text"
      },
      "cell_type": "markdown",
      "source": [
        "**Feature Engineering**"
      ]
    },
    {
      "metadata": {
        "id": "vCDdHA04nh_a",
        "colab_type": "text"
      },
      "cell_type": "markdown",
      "source": [
        "**Create feature for text message length**"
      ]
    },
    {
      "metadata": {
        "id": "7AXpIC4Mipuy",
        "colab_type": "code",
        "colab": {
          "autoexec": {
            "startup": false,
            "wait_interval": 0
          },
          "base_uri": "https://localhost:8080/",
          "height": 142
        },
        "outputId": "f8b3be8c-9470-47e1-8936-fa183775fe5a",
        "executionInfo": {
          "status": "ok",
          "timestamp": 1533497165851,
          "user_tz": -330,
          "elapsed": 809,
          "user": {
            "displayName": "Abhijit Barman",
            "photoUrl": "//lh5.googleusercontent.com/-zlv3TDMtHqA/AAAAAAAAAAI/AAAAAAAAADA/CWXeoPl9uA4/s50-c-k-no/photo.jpg",
            "userId": "106262860855271349643"
          }
        }
      },
      "cell_type": "code",
      "source": [
        "data['Description_len'] = data['Description'].apply(lambda text: len(text) - text.count(' ') )\n",
        "data.head(3)"
      ],
      "execution_count": 90,
      "outputs": [
        {
          "output_type": "execute_result",
          "data": {
            "text/html": [
              "<div>\n",
              "<style scoped>\n",
              "    .dataframe tbody tr th:only-of-type {\n",
              "        vertical-align: middle;\n",
              "    }\n",
              "\n",
              "    .dataframe tbody tr th {\n",
              "        vertical-align: top;\n",
              "    }\n",
              "\n",
              "    .dataframe thead th {\n",
              "        text-align: right;\n",
              "    }\n",
              "</style>\n",
              "<table border=\"1\" class=\"dataframe\">\n",
              "  <thead>\n",
              "    <tr style=\"text-align: right;\">\n",
              "      <th></th>\n",
              "      <th>User_ID</th>\n",
              "      <th>Description</th>\n",
              "      <th>Browser_Used</th>\n",
              "      <th>Device_Used</th>\n",
              "      <th>Is_Response</th>\n",
              "      <th>Description_len</th>\n",
              "    </tr>\n",
              "  </thead>\n",
              "  <tbody>\n",
              "    <tr>\n",
              "      <th>0</th>\n",
              "      <td>11755</td>\n",
              "      <td>After reading mixed reviews I almost didn't bo...</td>\n",
              "      <td>Google Chrome</td>\n",
              "      <td>Desktop</td>\n",
              "      <td>Good</td>\n",
              "      <td>1015</td>\n",
              "    </tr>\n",
              "    <tr>\n",
              "      <th>1</th>\n",
              "      <td>33912</td>\n",
              "      <td>This motor inn is located about - city blocks ...</td>\n",
              "      <td>Firefox</td>\n",
              "      <td>Tablet</td>\n",
              "      <td>Good</td>\n",
              "      <td>508</td>\n",
              "    </tr>\n",
              "    <tr>\n",
              "      <th>2</th>\n",
              "      <td>10143</td>\n",
              "      <td>It was our first time there and surely not our...</td>\n",
              "      <td>Google Chrome</td>\n",
              "      <td>Mobile</td>\n",
              "      <td>Good</td>\n",
              "      <td>412</td>\n",
              "    </tr>\n",
              "  </tbody>\n",
              "</table>\n",
              "</div>"
            ],
            "text/plain": [
              "   User_ID                                        Description   Browser_Used  \\\n",
              "0    11755  After reading mixed reviews I almost didn't bo...  Google Chrome   \n",
              "1    33912  This motor inn is located about - city blocks ...        Firefox   \n",
              "2    10143  It was our first time there and surely not our...  Google Chrome   \n",
              "\n",
              "  Device_Used Is_Response  Description_len  \n",
              "0     Desktop        Good             1015  \n",
              "1      Tablet        Good              508  \n",
              "2      Mobile        Good              412  "
            ]
          },
          "metadata": {
            "tags": []
          },
          "execution_count": 90
        }
      ]
    },
    {
      "metadata": {
        "id": "AR1y-N9jnr9C",
        "colab_type": "text"
      },
      "cell_type": "markdown",
      "source": [
        "**Create feature for % of text that is punctuation**"
      ]
    },
    {
      "metadata": {
        "id": "zAchBgmKmT3v",
        "colab_type": "code",
        "colab": {
          "autoexec": {
            "startup": false,
            "wait_interval": 0
          },
          "base_uri": "https://localhost:8080/",
          "height": 142
        },
        "outputId": "cb35d3a3-467d-4789-92ef-227d62dc8892",
        "executionInfo": {
          "status": "ok",
          "timestamp": 1533498301589,
          "user_tz": -330,
          "elapsed": 2878,
          "user": {
            "displayName": "Abhijit Barman",
            "photoUrl": "//lh5.googleusercontent.com/-zlv3TDMtHqA/AAAAAAAAAAI/AAAAAAAAADA/CWXeoPl9uA4/s50-c-k-no/photo.jpg",
            "userId": "106262860855271349643"
          }
        }
      },
      "cell_type": "code",
      "source": [
        "# A function to find the % of punctuation in a doc\n",
        "def count_punct(text):\n",
        "    count = sum([1 for char in text if char in string.punctuation])\n",
        "    return round(count/(len(text) - text.count(\" \")), 3)*100\n",
        "  \n",
        "data['punct%'] = data['Description'].apply(lambda text: count_punct(text))\n",
        "data.head(3)"
      ],
      "execution_count": 99,
      "outputs": [
        {
          "output_type": "execute_result",
          "data": {
            "text/html": [
              "<div>\n",
              "<style scoped>\n",
              "    .dataframe tbody tr th:only-of-type {\n",
              "        vertical-align: middle;\n",
              "    }\n",
              "\n",
              "    .dataframe tbody tr th {\n",
              "        vertical-align: top;\n",
              "    }\n",
              "\n",
              "    .dataframe thead th {\n",
              "        text-align: right;\n",
              "    }\n",
              "</style>\n",
              "<table border=\"1\" class=\"dataframe\">\n",
              "  <thead>\n",
              "    <tr style=\"text-align: right;\">\n",
              "      <th></th>\n",
              "      <th>User_ID</th>\n",
              "      <th>Description</th>\n",
              "      <th>Browser_Used</th>\n",
              "      <th>Device_Used</th>\n",
              "      <th>Is_Response</th>\n",
              "      <th>Description_len</th>\n",
              "      <th>punct%</th>\n",
              "    </tr>\n",
              "  </thead>\n",
              "  <tbody>\n",
              "    <tr>\n",
              "      <th>0</th>\n",
              "      <td>11755</td>\n",
              "      <td>After reading mixed reviews I almost didn't bo...</td>\n",
              "      <td>Google Chrome</td>\n",
              "      <td>Desktop</td>\n",
              "      <td>Good</td>\n",
              "      <td>1015</td>\n",
              "      <td>4.1</td>\n",
              "    </tr>\n",
              "    <tr>\n",
              "      <th>1</th>\n",
              "      <td>33912</td>\n",
              "      <td>This motor inn is located about - city blocks ...</td>\n",
              "      <td>Firefox</td>\n",
              "      <td>Tablet</td>\n",
              "      <td>Good</td>\n",
              "      <td>508</td>\n",
              "      <td>3.3</td>\n",
              "    </tr>\n",
              "    <tr>\n",
              "      <th>2</th>\n",
              "      <td>10143</td>\n",
              "      <td>It was our first time there and surely not our...</td>\n",
              "      <td>Google Chrome</td>\n",
              "      <td>Mobile</td>\n",
              "      <td>Good</td>\n",
              "      <td>412</td>\n",
              "      <td>2.2</td>\n",
              "    </tr>\n",
              "  </tbody>\n",
              "</table>\n",
              "</div>"
            ],
            "text/plain": [
              "   User_ID                                        Description   Browser_Used  \\\n",
              "0    11755  After reading mixed reviews I almost didn't bo...  Google Chrome   \n",
              "1    33912  This motor inn is located about - city blocks ...        Firefox   \n",
              "2    10143  It was our first time there and surely not our...  Google Chrome   \n",
              "\n",
              "  Device_Used Is_Response  Description_len  punct%  \n",
              "0     Desktop        Good             1015     4.1  \n",
              "1      Tablet        Good              508     3.3  \n",
              "2      Mobile        Good              412     2.2  "
            ]
          },
          "metadata": {
            "tags": []
          },
          "execution_count": 99
        }
      ]
    },
    {
      "metadata": {
        "id": "N_eUnQmDn2AE",
        "colab_type": "text"
      },
      "cell_type": "markdown",
      "source": [
        "**Evaluate created features**"
      ]
    },
    {
      "metadata": {
        "id": "P0Z8gxFUoGdt",
        "colab_type": "code",
        "colab": {
          "autoexec": {
            "startup": false,
            "wait_interval": 0
          }
        }
      },
      "cell_type": "code",
      "source": [
        "from matplotlib import pyplot\n",
        "import numpy as np\n",
        "%matplotlib inline"
      ],
      "execution_count": 0,
      "outputs": []
    },
    {
      "metadata": {
        "id": "DwlTRPZ8iqAz",
        "colab_type": "code",
        "colab": {
          "autoexec": {
            "startup": false,
            "wait_interval": 0
          },
          "base_uri": "https://localhost:8080/",
          "height": 231
        },
        "outputId": "bdc76775-52a2-49b7-d211-c82e14caccf9",
        "executionInfo": {
          "status": "error",
          "timestamp": 1533498555502,
          "user_tz": -330,
          "elapsed": 1011,
          "user": {
            "displayName": "Abhijit Barman",
            "photoUrl": "//lh5.googleusercontent.com/-zlv3TDMtHqA/AAAAAAAAAAI/AAAAAAAAADA/CWXeoPl9uA4/s50-c-k-no/photo.jpg",
            "userId": "106262860855271349643"
          }
        }
      },
      "cell_type": "code",
      "source": [
        "bins = np.linspace(0, 200, 40)\n",
        "\n",
        "pyplot.hist(data[data['Is_Response']=='Good']['Description_len'], bins, alpha=0.5, normed=True, label='Good')\n",
        "pyplot.hist(data[data['Is_Response']=='Bad']['Description_len'], bins, alpha=0.5, normed=True, label='Bad')\n",
        "pyplot.legend(loc='upper left')\n",
        "pyplot.show()"
      ],
      "execution_count": 3,
      "outputs": [
        {
          "output_type": "error",
          "ename": "NameError",
          "evalue": "ignored",
          "traceback": [
            "\u001b[0;31m---------------------------------------------------------------------------\u001b[0m",
            "\u001b[0;31mNameError\u001b[0m                                 Traceback (most recent call last)",
            "\u001b[0;32m<ipython-input-3-24273f2583f7>\u001b[0m in \u001b[0;36m<module>\u001b[0;34m()\u001b[0m\n\u001b[1;32m      1\u001b[0m \u001b[0mbins\u001b[0m \u001b[0;34m=\u001b[0m \u001b[0mnp\u001b[0m\u001b[0;34m.\u001b[0m\u001b[0mlinspace\u001b[0m\u001b[0;34m(\u001b[0m\u001b[0;36m0\u001b[0m\u001b[0;34m,\u001b[0m \u001b[0;36m200\u001b[0m\u001b[0;34m,\u001b[0m \u001b[0;36m40\u001b[0m\u001b[0;34m)\u001b[0m\u001b[0;34m\u001b[0m\u001b[0m\n\u001b[1;32m      2\u001b[0m \u001b[0;34m\u001b[0m\u001b[0m\n\u001b[0;32m----> 3\u001b[0;31m \u001b[0mpyplot\u001b[0m\u001b[0;34m.\u001b[0m\u001b[0mhist\u001b[0m\u001b[0;34m(\u001b[0m\u001b[0mdata\u001b[0m\u001b[0;34m[\u001b[0m\u001b[0mdata\u001b[0m\u001b[0;34m[\u001b[0m\u001b[0;34m'Is_Response'\u001b[0m\u001b[0;34m]\u001b[0m\u001b[0;34m==\u001b[0m\u001b[0;34m'Good'\u001b[0m\u001b[0;34m]\u001b[0m\u001b[0;34m[\u001b[0m\u001b[0;34m'Description_len'\u001b[0m\u001b[0;34m]\u001b[0m\u001b[0;34m,\u001b[0m \u001b[0mbins\u001b[0m\u001b[0;34m,\u001b[0m \u001b[0malpha\u001b[0m\u001b[0;34m=\u001b[0m\u001b[0;36m0.5\u001b[0m\u001b[0;34m,\u001b[0m \u001b[0mnormed\u001b[0m\u001b[0;34m=\u001b[0m\u001b[0;32mTrue\u001b[0m\u001b[0;34m,\u001b[0m \u001b[0mlabel\u001b[0m\u001b[0;34m=\u001b[0m\u001b[0;34m'Good'\u001b[0m\u001b[0;34m)\u001b[0m\u001b[0;34m\u001b[0m\u001b[0m\n\u001b[0m\u001b[1;32m      4\u001b[0m \u001b[0mpyplot\u001b[0m\u001b[0;34m.\u001b[0m\u001b[0mhist\u001b[0m\u001b[0;34m(\u001b[0m\u001b[0mdata\u001b[0m\u001b[0;34m[\u001b[0m\u001b[0mdata\u001b[0m\u001b[0;34m[\u001b[0m\u001b[0;34m'Is_Response'\u001b[0m\u001b[0;34m]\u001b[0m\u001b[0;34m==\u001b[0m\u001b[0;34m'Bad'\u001b[0m\u001b[0;34m]\u001b[0m\u001b[0;34m[\u001b[0m\u001b[0;34m'Description_len'\u001b[0m\u001b[0;34m]\u001b[0m\u001b[0;34m,\u001b[0m \u001b[0mbins\u001b[0m\u001b[0;34m,\u001b[0m \u001b[0malpha\u001b[0m\u001b[0;34m=\u001b[0m\u001b[0;36m0.5\u001b[0m\u001b[0;34m,\u001b[0m \u001b[0mnormed\u001b[0m\u001b[0;34m=\u001b[0m\u001b[0;32mTrue\u001b[0m\u001b[0;34m,\u001b[0m \u001b[0mlabel\u001b[0m\u001b[0;34m=\u001b[0m\u001b[0;34m'Bad'\u001b[0m\u001b[0;34m)\u001b[0m\u001b[0;34m\u001b[0m\u001b[0m\n\u001b[1;32m      5\u001b[0m \u001b[0mpyplot\u001b[0m\u001b[0;34m.\u001b[0m\u001b[0mlegend\u001b[0m\u001b[0;34m(\u001b[0m\u001b[0mloc\u001b[0m\u001b[0;34m=\u001b[0m\u001b[0;34m'upper left'\u001b[0m\u001b[0;34m)\u001b[0m\u001b[0;34m\u001b[0m\u001b[0m\n",
            "\u001b[0;31mNameError\u001b[0m: name 'data' is not defined"
          ]
        }
      ]
    },
    {
      "metadata": {
        "id": "UcqcJtUzip83",
        "colab_type": "code",
        "colab": {
          "autoexec": {
            "startup": false,
            "wait_interval": 0
          }
        }
      },
      "cell_type": "code",
      "source": [
        "bins = np.linspace(0, 50, 40)\n",
        "\n",
        "pyplot.hist(data[data['Is_Response']=='Good']['punct%'], bins, alpha=0.5, normed=True, label='Good')\n",
        "pyplot.hist(data[data['Is_Response']=='Bad']['punct%'], bins, alpha=0.5, normed=True, label='Bad')\n",
        "pyplot.legend(loc='upper right')\n",
        "pyplot.show()"
      ],
      "execution_count": 0,
      "outputs": []
    },
    {
      "metadata": {
        "id": "yri-7IXrpSYx",
        "colab_type": "text"
      },
      "cell_type": "markdown",
      "source": [
        "**Plot the two new features**"
      ]
    },
    {
      "metadata": {
        "id": "XYcztytopLSj",
        "colab_type": "code",
        "colab": {
          "autoexec": {
            "startup": false,
            "wait_interval": 0
          }
        }
      },
      "cell_type": "code",
      "source": [
        "bins = np.linspace(0, 200, 40)\n",
        "\n",
        "pyplot.hist(data['Description_len'], bins)\n",
        "pyplot.title(\"Description Length Distribution\")\n",
        "pyplot.show()"
      ],
      "execution_count": 0,
      "outputs": []
    },
    {
      "metadata": {
        "id": "6ISLP4APpLOF",
        "colab_type": "code",
        "colab": {
          "autoexec": {
            "startup": false,
            "wait_interval": 0
          }
        }
      },
      "cell_type": "code",
      "source": [
        "bins = np.linspace(0, 50, 40)\n",
        "\n",
        "pyplot.hist(data['punct%'], bins)\n",
        "pyplot.title(\"Punctuation % Distribution\")\n",
        "pyplot.show()"
      ],
      "execution_count": 0,
      "outputs": []
    },
    {
      "metadata": {
        "id": "wrKbEHqSp0J6",
        "colab_type": "text"
      },
      "cell_type": "markdown",
      "source": [
        "**Transform the punctuation % feature**"
      ]
    },
    {
      "metadata": {
        "id": "LHaEWiywqgf1",
        "colab_type": "text"
      },
      "cell_type": "markdown",
      "source": [
        "**Box-Cox Transformation**\n",
        "\n",
        "                Base Form : y^x"
      ]
    },
    {
      "metadata": {
        "id": "71og7ufxs-FV",
        "colab_type": "text"
      },
      "cell_type": "markdown",
      "source": [
        "We are not going to include the extracted as they do not explain resonable variance towards the response variable."
      ]
    },
    {
      "metadata": {
        "id": "8GHoY21hhlar",
        "colab_type": "code",
        "colab": {
          "autoexec": {
            "startup": false,
            "wait_interval": 0
          }
        }
      },
      "cell_type": "code",
      "source": [
        ""
      ],
      "execution_count": 0,
      "outputs": []
    },
    {
      "metadata": {
        "id": "-zbNEuGKqzHt",
        "colab_type": "text"
      },
      "cell_type": "markdown",
      "source": [
        "**Get the engish stopwords**"
      ]
    },
    {
      "metadata": {
        "id": "EyN0VOEahBS3",
        "colab_type": "code",
        "colab": {
          "autoexec": {
            "startup": false,
            "wait_interval": 0
          },
          "base_uri": "https://localhost:8080/",
          "height": 51
        },
        "outputId": "b49dab5f-4fe9-44d4-c558-663714f4997d",
        "executionInfo": {
          "status": "ok",
          "timestamp": 1533479780930,
          "user_tz": -330,
          "elapsed": 912,
          "user": {
            "displayName": "Abhijit Barman",
            "photoUrl": "//lh5.googleusercontent.com/-zlv3TDMtHqA/AAAAAAAAAAI/AAAAAAAAADA/CWXeoPl9uA4/s50-c-k-no/photo.jpg",
            "userId": "106262860855271349643"
          }
        }
      },
      "cell_type": "code",
      "source": [
        "stopwords = nltk.download('stopwords')\n",
        "stopwords = nltk.corpus.stopwords.words('english')\n",
        "ps = nltk.PorterStemmer()"
      ],
      "execution_count": 3,
      "outputs": [
        {
          "output_type": "stream",
          "text": [
            "[nltk_data] Downloading package stopwords to /content/nltk_data...\n",
            "[nltk_data]   Unzipping corpora/stopwords.zip.\n"
          ],
          "name": "stdout"
        }
      ]
    },
    {
      "metadata": {
        "id": "cgUQIuklq_Rf",
        "colab_type": "text"
      },
      "cell_type": "markdown",
      "source": [
        "**Data Cleaning **"
      ]
    },
    {
      "metadata": {
        "id": "K-wuuTeQrWpO",
        "colab_type": "text"
      },
      "cell_type": "markdown",
      "source": [
        "- Remove the punctuation\n",
        "- Remove the stopwords\n",
        "- Remove anything other than english words\n",
        "- Get the root words by stemming (PorterStemmer)\n",
        "- We will use Stemming (PorterStemmer) over Lematizing(nltk.WordNetLemmatizer) as we gain speed though stemming does not consider the context."
      ]
    },
    {
      "metadata": {
        "id": "m4_wKrX4hMfw",
        "colab_type": "code",
        "colab": {
          "autoexec": {
            "startup": false,
            "wait_interval": 0
          }
        }
      },
      "cell_type": "code",
      "source": [
        "def clean_text(text):\n",
        "    text = \"\".join([word.lower() for word in text if word not in string.punctuation])\n",
        "    tokens = re.split('\\W+', text)\n",
        "    text = [ps.stem(word) for word in tokens if word not in stopwords]\n",
        "    return text\n",
        "  "
      ],
      "execution_count": 0,
      "outputs": []
    },
    {
      "metadata": {
        "id": "m3wj8vaQtHSB",
        "colab_type": "text"
      },
      "cell_type": "markdown",
      "source": [
        "**Vectorize & find the list of features to include for model building**"
      ]
    },
    {
      "metadata": {
        "id": "8RO7EOqmt4zC",
        "colab_type": "text"
      },
      "cell_type": "markdown",
      "source": [
        "##### Get the dummy variables for the Categorical varaibles & drop the first column to get rid of the dummy variable trap"
      ]
    },
    {
      "metadata": {
        "id": "cuA-TRlEhZb-",
        "colab_type": "code",
        "colab": {
          "autoexec": {
            "startup": false,
            "wait_interval": 0
          }
        }
      },
      "cell_type": "code",
      "source": [
        "X = data.drop(['Description','User_ID','Is_Response'], axis=1)\n",
        "X_dummies = pd.get_dummies(X,columns=['Browser_Used','Device_Used'], drop_first=True)"
      ],
      "execution_count": 0,
      "outputs": []
    },
    {
      "metadata": {
        "id": "DpEzFJ-Ojg24",
        "colab_type": "code",
        "colab": {
          "autoexec": {
            "startup": false,
            "wait_interval": 0
          }
        }
      },
      "cell_type": "code",
      "source": [
        "X_test_dummies = data_test.drop(['Description','User_ID'], axis=1)\n",
        "X_test_dummies = pd.get_dummies(X_test_dummies,columns=['Browser_Used','Device_Used'], drop_first=True)"
      ],
      "execution_count": 0,
      "outputs": []
    },
    {
      "metadata": {
        "id": "7zucH_LYuJOb",
        "colab_type": "text"
      },
      "cell_type": "markdown",
      "source": [
        "**Vectorize using the TfidfVectorizer**\n",
        "\n",
        "**TF-IDF**\n",
        "Creates a document-term matrix where the columns represent single unique terms (unigrams) but the cell represents a weighting meant to represent how important a word is to a document."
      ]
    },
    {
      "metadata": {
        "id": "4f4W5ei-hrpg",
        "colab_type": "code",
        "colab": {
          "autoexec": {
            "startup": false,
            "wait_interval": 0
          }
        }
      },
      "cell_type": "code",
      "source": [
        "tfidf_vect = TfidfVectorizer(analyzer=clean_text,min_df=3, max_features=6000)"
      ],
      "execution_count": 0,
      "outputs": []
    },
    {
      "metadata": {
        "id": "bsSuss4zulgr",
        "colab_type": "text"
      },
      "cell_type": "markdown",
      "source": [
        "Fit the vectorizer to the 'Description' column"
      ]
    },
    {
      "metadata": {
        "id": "j4XH5M3chz4d",
        "colab_type": "code",
        "colab": {
          "autoexec": {
            "startup": false,
            "wait_interval": 0
          }
        }
      },
      "cell_type": "code",
      "source": [
        "X_tfidf = tfidf_vect.fit(data['Description'])"
      ],
      "execution_count": 0,
      "outputs": []
    },
    {
      "metadata": {
        "id": "UTnk-Z-puteY",
        "colab_type": "text"
      },
      "cell_type": "markdown",
      "source": [
        "Tranform training & test data sets"
      ]
    },
    {
      "metadata": {
        "id": "GDVpTNEIiFRH",
        "colab_type": "code",
        "colab": {
          "autoexec": {
            "startup": false,
            "wait_interval": 0
          }
        }
      },
      "cell_type": "code",
      "source": [
        "X_train_vectorized_features=X_tfidf.transform(data['Description'])\n",
        "X_test_vectorized_features=X_tfidf.transform(data_test['Description'])"
      ],
      "execution_count": 0,
      "outputs": []
    },
    {
      "metadata": {
        "id": "KVSsc_TTjUim",
        "colab_type": "code",
        "colab": {
          "autoexec": {
            "startup": false,
            "wait_interval": 0
          },
          "base_uri": "https://localhost:8080/",
          "height": 34
        },
        "outputId": "1940be32-5675-4e67-e09a-5b914e52109f",
        "executionInfo": {
          "status": "ok",
          "timestamp": 1533480365167,
          "user_tz": -330,
          "elapsed": 918,
          "user": {
            "displayName": "Abhijit Barman",
            "photoUrl": "//lh5.googleusercontent.com/-zlv3TDMtHqA/AAAAAAAAAAI/AAAAAAAAADA/CWXeoPl9uA4/s50-c-k-no/photo.jpg",
            "userId": "106262860855271349643"
          }
        }
      },
      "cell_type": "code",
      "source": [
        "X_train_vectorized_features.shape"
      ],
      "execution_count": 13,
      "outputs": [
        {
          "output_type": "execute_result",
          "data": {
            "text/plain": [
              "(30172, 6000)"
            ]
          },
          "metadata": {
            "tags": []
          },
          "execution_count": 13
        }
      ]
    },
    {
      "metadata": {
        "id": "tCx_WzO7jU4k",
        "colab_type": "code",
        "colab": {
          "autoexec": {
            "startup": false,
            "wait_interval": 0
          },
          "base_uri": "https://localhost:8080/",
          "height": 34
        },
        "outputId": "f6edd773-a922-4fe4-a90e-05188bd958e5",
        "executionInfo": {
          "status": "ok",
          "timestamp": 1533480373447,
          "user_tz": -330,
          "elapsed": 1085,
          "user": {
            "displayName": "Abhijit Barman",
            "photoUrl": "//lh5.googleusercontent.com/-zlv3TDMtHqA/AAAAAAAAAAI/AAAAAAAAADA/CWXeoPl9uA4/s50-c-k-no/photo.jpg",
            "userId": "106262860855271349643"
          }
        }
      },
      "cell_type": "code",
      "source": [
        "X_test_vectorized_features.shape"
      ],
      "execution_count": 14,
      "outputs": [
        {
          "output_type": "execute_result",
          "data": {
            "text/plain": [
              "(8760, 6000)"
            ]
          },
          "metadata": {
            "tags": []
          },
          "execution_count": 14
        }
      ]
    },
    {
      "metadata": {
        "id": "Q7LFRictu3Di",
        "colab_type": "text"
      },
      "cell_type": "markdown",
      "source": [
        "####Trainng Features"
      ]
    },
    {
      "metadata": {
        "id": "S_I9Fs3Xj6D2",
        "colab_type": "code",
        "colab": {
          "autoexec": {
            "startup": false,
            "wait_interval": 0
          },
          "base_uri": "https://localhost:8080/",
          "height": 34
        },
        "outputId": "746a678c-0cb2-45c3-876d-781a62b1c464",
        "executionInfo": {
          "status": "ok",
          "timestamp": 1533480568009,
          "user_tz": -330,
          "elapsed": 8744,
          "user": {
            "displayName": "Abhijit Barman",
            "photoUrl": "//lh5.googleusercontent.com/-zlv3TDMtHqA/AAAAAAAAAAI/AAAAAAAAADA/CWXeoPl9uA4/s50-c-k-no/photo.jpg",
            "userId": "106262860855271349643"
          }
        }
      },
      "cell_type": "code",
      "source": [
        "X_features= pd.concat([X_dummies,pd.DataFrame(X_train_vectorized_features.toarray())], axis=1)\n",
        "X_features.shape"
      ],
      "execution_count": 18,
      "outputs": [
        {
          "output_type": "execute_result",
          "data": {
            "text/plain": [
              "(30172, 6012)"
            ]
          },
          "metadata": {
            "tags": []
          },
          "execution_count": 18
        }
      ]
    },
    {
      "metadata": {
        "id": "Bvi-9uwGtvW3",
        "colab_type": "code",
        "colab": {
          "autoexec": {
            "startup": false,
            "wait_interval": 0
          }
        }
      },
      "cell_type": "code",
      "source": [
        "y=data.iloc[:,-1]\n",
        "y = pd.get_dummies(y,columns=['Is_Response'],drop_first=True)\n",
        "y.head()\n",
        "y.shape"
      ],
      "execution_count": 0,
      "outputs": []
    },
    {
      "metadata": {
        "id": "mwFSiYNPvDcA",
        "colab_type": "text"
      },
      "cell_type": "markdown",
      "source": [
        "##### Test features"
      ]
    },
    {
      "metadata": {
        "id": "UxMXN1sZj6P7",
        "colab_type": "code",
        "colab": {
          "autoexec": {
            "startup": false,
            "wait_interval": 0
          },
          "base_uri": "https://localhost:8080/",
          "height": 34
        },
        "outputId": "314064d5-7f4f-4c6b-8923-130b3f52877b",
        "executionInfo": {
          "status": "ok",
          "timestamp": 1533480606837,
          "user_tz": -330,
          "elapsed": 2141,
          "user": {
            "displayName": "Abhijit Barman",
            "photoUrl": "//lh5.googleusercontent.com/-zlv3TDMtHqA/AAAAAAAAAAI/AAAAAAAAADA/CWXeoPl9uA4/s50-c-k-no/photo.jpg",
            "userId": "106262860855271349643"
          }
        }
      },
      "cell_type": "code",
      "source": [
        "X_tst_features= pd.concat([X_test_dummies,pd.DataFrame(X_test_vectorized_features.toarray())], axis=1)\n",
        "X_tst_features.shape"
      ],
      "execution_count": 19,
      "outputs": [
        {
          "output_type": "execute_result",
          "data": {
            "text/plain": [
              "(8760, 6012)"
            ]
          },
          "metadata": {
            "tags": []
          },
          "execution_count": 19
        }
      ]
    },
    {
      "metadata": {
        "id": "ojO-Cz0avJwo",
        "colab_type": "code",
        "colab": {
          "autoexec": {
            "startup": false,
            "wait_interval": 0
          }
        }
      },
      "cell_type": "code",
      "source": [
        ""
      ],
      "execution_count": 0,
      "outputs": []
    },
    {
      "metadata": {
        "id": "tA73PGevvNbn",
        "colab_type": "text"
      },
      "cell_type": "markdown",
      "source": [
        "### Split the datatset to training& test sets"
      ]
    },
    {
      "metadata": {
        "id": "0zkZ1WTIlBrE",
        "colab_type": "code",
        "colab": {
          "autoexec": {
            "startup": false,
            "wait_interval": 0
          }
        }
      },
      "cell_type": "code",
      "source": [
        "X_train, X_test, y_train, y_test = train_test_split(X_features, y, test_size=0.3)"
      ],
      "execution_count": 0,
      "outputs": []
    },
    {
      "metadata": {
        "id": "-Fbzt0Q5lCG2",
        "colab_type": "code",
        "colab": {
          "autoexec": {
            "startup": false,
            "wait_interval": 0
          },
          "base_uri": "https://localhost:8080/",
          "height": 34
        },
        "outputId": "4da31445-e0d1-4b56-c8c4-138f0b2f393b",
        "executionInfo": {
          "status": "ok",
          "timestamp": 1533481189654,
          "user_tz": -330,
          "elapsed": 1314,
          "user": {
            "displayName": "Abhijit Barman",
            "photoUrl": "//lh5.googleusercontent.com/-zlv3TDMtHqA/AAAAAAAAAAI/AAAAAAAAADA/CWXeoPl9uA4/s50-c-k-no/photo.jpg",
            "userId": "106262860855271349643"
          }
        }
      },
      "cell_type": "code",
      "source": [
        "X_train.shape, X_test.shape, y_train.shape, y_test.shape"
      ],
      "execution_count": 24,
      "outputs": [
        {
          "output_type": "execute_result",
          "data": {
            "text/plain": [
              "((21120, 6012), (9052, 6012), (21120, 1), (9052, 1))"
            ]
          },
          "metadata": {
            "tags": []
          },
          "execution_count": 24
        }
      ]
    },
    {
      "metadata": {
        "id": "OjYHf-PwvZXK",
        "colab_type": "text"
      },
      "cell_type": "markdown",
      "source": [
        "# Function to train multiple RandomForest classifier\n",
        "   Manual Grid Search"
      ]
    },
    {
      "metadata": {
        "id": "ImYWrmkRj6X0",
        "colab_type": "code",
        "colab": {
          "autoexec": {
            "startup": false,
            "wait_interval": 0
          }
        }
      },
      "cell_type": "code",
      "source": [
        "def train_RF(n_est, depth):\n",
        "    rf = RandomForestClassifier(n_estimators=n_est, max_depth=depth, n_jobs=-1)\n",
        "    rf_model = rf.fit(X_train, y_train.values)\n",
        "    y_pred = rf_model.predict(X_test)\n",
        "    precision, recall, fscore, support = score(y_test, y_pred, average='binary')\n",
        "    print('Est: {} / Depth: {} ---- Precision: {} / Recall: {} / Accuracy: {}'.format(\n",
        "        n_est, depth, round(precision, 3), \n",
        "        round(recall, 3),\n",
        "        round(accuracy_score(y_test,y_pred))))"
      ],
      "execution_count": 0,
      "outputs": []
    },
    {
      "metadata": {
        "id": "F7FiQi3Rj6VC",
        "colab_type": "code",
        "colab": {
          "autoexec": {
            "startup": false,
            "wait_interval": 0
          },
          "base_uri": "https://localhost:8080/",
          "height": 649
        },
        "outputId": "82b01873-a74b-4e92-8c39-8d8fd05b34fa",
        "executionInfo": {
          "status": "ok",
          "timestamp": 1533496465944,
          "user_tz": -330,
          "elapsed": 182685,
          "user": {
            "displayName": "Abhijit Barman",
            "photoUrl": "//lh5.googleusercontent.com/-zlv3TDMtHqA/AAAAAAAAAAI/AAAAAAAAADA/CWXeoPl9uA4/s50-c-k-no/photo.jpg",
            "userId": "106262860855271349643"
          }
        }
      },
      "cell_type": "code",
      "source": [
        "for n_est in [10, 50, 100]:\n",
        "    for depth in [10, 20, 30, None]:\n",
        "        train_RF(n_est, depth)"
      ],
      "execution_count": 83,
      "outputs": [
        {
          "output_type": "stream",
          "text": [
            "/usr/local/lib/python3.6/dist-packages/ipykernel_launcher.py:3: DataConversionWarning: A column-vector y was passed when a 1d array was expected. Please change the shape of y to (n_samples,), for example using ravel().\n",
            "  This is separate from the ipykernel package so we can avoid doing imports until\n"
          ],
          "name": "stderr"
        },
        {
          "output_type": "stream",
          "text": [
            "Est: 10 / Depth: 10 ---- Precision: 0.728 / Recall: 0.986 / Accuracy: 1.0\n"
          ],
          "name": "stdout"
        },
        {
          "output_type": "stream",
          "text": [
            "/usr/local/lib/python3.6/dist-packages/ipykernel_launcher.py:3: DataConversionWarning: A column-vector y was passed when a 1d array was expected. Please change the shape of y to (n_samples,), for example using ravel().\n",
            "  This is separate from the ipykernel package so we can avoid doing imports until\n"
          ],
          "name": "stderr"
        },
        {
          "output_type": "stream",
          "text": [
            "Est: 10 / Depth: 20 ---- Precision: 0.778 / Recall: 0.967 / Accuracy: 1.0\n"
          ],
          "name": "stdout"
        },
        {
          "output_type": "stream",
          "text": [
            "/usr/local/lib/python3.6/dist-packages/ipykernel_launcher.py:3: DataConversionWarning: A column-vector y was passed when a 1d array was expected. Please change the shape of y to (n_samples,), for example using ravel().\n",
            "  This is separate from the ipykernel package so we can avoid doing imports until\n"
          ],
          "name": "stderr"
        },
        {
          "output_type": "stream",
          "text": [
            "Est: 10 / Depth: 30 ---- Precision: 0.796 / Recall: 0.952 / Accuracy: 1.0\n"
          ],
          "name": "stdout"
        },
        {
          "output_type": "stream",
          "text": [
            "/usr/local/lib/python3.6/dist-packages/ipykernel_launcher.py:3: DataConversionWarning: A column-vector y was passed when a 1d array was expected. Please change the shape of y to (n_samples,), for example using ravel().\n",
            "  This is separate from the ipykernel package so we can avoid doing imports until\n"
          ],
          "name": "stderr"
        },
        {
          "output_type": "stream",
          "text": [
            "Est: 10 / Depth: None ---- Precision: 0.834 / Recall: 0.901 / Accuracy: 1.0\n"
          ],
          "name": "stdout"
        },
        {
          "output_type": "stream",
          "text": [
            "/usr/local/lib/python3.6/dist-packages/ipykernel_launcher.py:3: DataConversionWarning: A column-vector y was passed when a 1d array was expected. Please change the shape of y to (n_samples,), for example using ravel().\n",
            "  This is separate from the ipykernel package so we can avoid doing imports until\n"
          ],
          "name": "stderr"
        },
        {
          "output_type": "stream",
          "text": [
            "Est: 50 / Depth: 10 ---- Precision: 0.722 / Recall: 0.994 / Accuracy: 1.0\n"
          ],
          "name": "stdout"
        },
        {
          "output_type": "stream",
          "text": [
            "/usr/local/lib/python3.6/dist-packages/ipykernel_launcher.py:3: DataConversionWarning: A column-vector y was passed when a 1d array was expected. Please change the shape of y to (n_samples,), for example using ravel().\n",
            "  This is separate from the ipykernel package so we can avoid doing imports until\n"
          ],
          "name": "stderr"
        },
        {
          "output_type": "stream",
          "text": [
            "Est: 50 / Depth: 20 ---- Precision: 0.776 / Recall: 0.984 / Accuracy: 1.0\n"
          ],
          "name": "stdout"
        },
        {
          "output_type": "stream",
          "text": [
            "/usr/local/lib/python3.6/dist-packages/ipykernel_launcher.py:3: DataConversionWarning: A column-vector y was passed when a 1d array was expected. Please change the shape of y to (n_samples,), for example using ravel().\n",
            "  This is separate from the ipykernel package so we can avoid doing imports until\n"
          ],
          "name": "stderr"
        },
        {
          "output_type": "stream",
          "text": [
            "Est: 50 / Depth: 30 ---- Precision: 0.8 / Recall: 0.976 / Accuracy: 1.0\n"
          ],
          "name": "stdout"
        },
        {
          "output_type": "stream",
          "text": [
            "/usr/local/lib/python3.6/dist-packages/ipykernel_launcher.py:3: DataConversionWarning: A column-vector y was passed when a 1d array was expected. Please change the shape of y to (n_samples,), for example using ravel().\n",
            "  This is separate from the ipykernel package so we can avoid doing imports until\n"
          ],
          "name": "stderr"
        },
        {
          "output_type": "stream",
          "text": [
            "Est: 50 / Depth: None ---- Precision: 0.828 / Recall: 0.961 / Accuracy: 1.0\n"
          ],
          "name": "stdout"
        },
        {
          "output_type": "stream",
          "text": [
            "/usr/local/lib/python3.6/dist-packages/ipykernel_launcher.py:3: DataConversionWarning: A column-vector y was passed when a 1d array was expected. Please change the shape of y to (n_samples,), for example using ravel().\n",
            "  This is separate from the ipykernel package so we can avoid doing imports until\n"
          ],
          "name": "stderr"
        },
        {
          "output_type": "stream",
          "text": [
            "Est: 100 / Depth: 10 ---- Precision: 0.719 / Recall: 0.997 / Accuracy: 1.0\n"
          ],
          "name": "stdout"
        },
        {
          "output_type": "stream",
          "text": [
            "/usr/local/lib/python3.6/dist-packages/ipykernel_launcher.py:3: DataConversionWarning: A column-vector y was passed when a 1d array was expected. Please change the shape of y to (n_samples,), for example using ravel().\n",
            "  This is separate from the ipykernel package so we can avoid doing imports until\n"
          ],
          "name": "stderr"
        },
        {
          "output_type": "stream",
          "text": [
            "Est: 100 / Depth: 20 ---- Precision: 0.777 / Recall: 0.987 / Accuracy: 1.0\n"
          ],
          "name": "stdout"
        },
        {
          "output_type": "stream",
          "text": [
            "/usr/local/lib/python3.6/dist-packages/ipykernel_launcher.py:3: DataConversionWarning: A column-vector y was passed when a 1d array was expected. Please change the shape of y to (n_samples,), for example using ravel().\n",
            "  This is separate from the ipykernel package so we can avoid doing imports until\n"
          ],
          "name": "stderr"
        },
        {
          "output_type": "stream",
          "text": [
            "Est: 100 / Depth: 30 ---- Precision: 0.802 / Recall: 0.98 / Accuracy: 1.0\n"
          ],
          "name": "stdout"
        },
        {
          "output_type": "stream",
          "text": [
            "/usr/local/lib/python3.6/dist-packages/ipykernel_launcher.py:3: DataConversionWarning: A column-vector y was passed when a 1d array was expected. Please change the shape of y to (n_samples,), for example using ravel().\n",
            "  This is separate from the ipykernel package so we can avoid doing imports until\n"
          ],
          "name": "stderr"
        },
        {
          "output_type": "stream",
          "text": [
            "Est: 100 / Depth: None ---- Precision: 0.833 / Recall: 0.968 / Accuracy: 1.0\n"
          ],
          "name": "stdout"
        }
      ]
    },
    {
      "metadata": {
        "id": "nXi-6tvPvw8g",
        "colab_type": "text"
      },
      "cell_type": "markdown",
      "source": [
        "**Exploring parameter settings using GridSearchCV**"
      ]
    },
    {
      "metadata": {
        "id": "glDFbLxMvxMm",
        "colab_type": "code",
        "colab": {
          "autoexec": {
            "startup": false,
            "wait_interval": 0
          }
        }
      },
      "cell_type": "code",
      "source": [
        "import warnings\n",
        "warnings.filterwarnings(\"ignore\", category=DeprecationWarning)\n",
        "from sklearn.ensemble import RandomForestClassifier\n",
        "from sklearn.model_selection import GridSearchCV"
      ],
      "execution_count": 0,
      "outputs": []
    },
    {
      "metadata": {
        "id": "zWCjRt3jvxIx",
        "colab_type": "code",
        "colab": {
          "autoexec": {
            "startup": false,
            "wait_interval": 0
          }
        }
      },
      "cell_type": "code",
      "source": [
        "rf = RandomForestClassifier()\n",
        "param = {'n_estimators': [10, 150, 300],\n",
        "        'max_depth': [30, 60, 90, None]}\n",
        "\n",
        "gs = GridSearchCV(rf, param, cv=5, n_jobs=-1)\n",
        "gs_fit = gs.fit(X_tfidf_feat, data['Is_Response'])\n",
        "pd.DataFrame(gs_fit.cv_results_).sort_values('mean_test_score', ascending=False)[0:5]"
      ],
      "execution_count": 0,
      "outputs": []
    },
    {
      "metadata": {
        "id": "plj1idOwwlex",
        "colab_type": "text"
      },
      "cell_type": "markdown",
      "source": [
        "**Model Evaluation & Selection**"
      ]
    },
    {
      "metadata": {
        "id": "TmiP3xh2wy6e",
        "colab_type": "text"
      },
      "cell_type": "markdown",
      "source": [
        "Find the set of parameters that gives the best performance & Create a model accordingly."
      ]
    },
    {
      "metadata": {
        "id": "3AzZwxsiks7X",
        "colab_type": "code",
        "colab": {
          "autoexec": {
            "startup": false,
            "wait_interval": 0
          },
          "base_uri": "https://localhost:8080/",
          "height": 88
        },
        "outputId": "54ed8bcb-5f35-4044-cdaf-be92ed7bef94",
        "executionInfo": {
          "status": "ok",
          "timestamp": 1533481621750,
          "user_tz": -330,
          "elapsed": 13841,
          "user": {
            "displayName": "Abhijit Barman",
            "photoUrl": "//lh5.googleusercontent.com/-zlv3TDMtHqA/AAAAAAAAAAI/AAAAAAAAADA/CWXeoPl9uA4/s50-c-k-no/photo.jpg",
            "userId": "106262860855271349643"
          }
        }
      },
      "cell_type": "code",
      "source": [
        "rf = RandomForestClassifier(n_estimators=50, max_depth=30, n_jobs=-1)\n",
        "rf_model = rf.fit(X_train, y_train)\n",
        "y_pred = rf_model.predict(X_test)\n",
        "precision, recall, fscore, support = score(y_test, y_pred, average='binary')\n",
        "print('Est: {} / Depth: {} ---- Precision: {} / Recall: {} / Accuracy: {}'.format(\n",
        "    50, 30, round(precision, 3), \n",
        "    round(recall, 3),\n",
        "    round(accuracy_score(y_test,y_pred))))"
      ],
      "execution_count": 28,
      "outputs": [
        {
          "output_type": "stream",
          "text": [
            "/usr/local/lib/python3.6/dist-packages/ipykernel_launcher.py:2: DataConversionWarning: A column-vector y was passed when a 1d array was expected. Please change the shape of y to (n_samples,), for example using ravel().\n",
            "  \n"
          ],
          "name": "stderr"
        },
        {
          "output_type": "stream",
          "text": [
            "Est: 50 / Depth: 30 ---- Precision: 0.802 / Recall: 0.974 / Accuracy: 1.0\n"
          ],
          "name": "stdout"
        }
      ]
    },
    {
      "metadata": {
        "id": "Z045x4jBx3Wz",
        "colab_type": "text"
      },
      "cell_type": "markdown",
      "source": [
        "**Make Predictions for the test data**"
      ]
    },
    {
      "metadata": {
        "id": "z05Z5rXToxwa",
        "colab_type": "code",
        "colab": {
          "autoexec": {
            "startup": false,
            "wait_interval": 0
          }
        }
      },
      "cell_type": "code",
      "source": [
        "y_pred_submission = rf_model.predict(X_tst_features)"
      ],
      "execution_count": 0,
      "outputs": []
    },
    {
      "metadata": {
        "id": "Snpt_lU1ksxS",
        "colab_type": "code",
        "colab": {
          "autoexec": {
            "startup": false,
            "wait_interval": 0
          },
          "base_uri": "https://localhost:8080/",
          "height": 34
        },
        "outputId": "8f165540-d57e-4e68-bb24-01af427321ed",
        "executionInfo": {
          "status": "ok",
          "timestamp": 1533482425617,
          "user_tz": -330,
          "elapsed": 866,
          "user": {
            "displayName": "Abhijit Barman",
            "photoUrl": "//lh5.googleusercontent.com/-zlv3TDMtHqA/AAAAAAAAAAI/AAAAAAAAADA/CWXeoPl9uA4/s50-c-k-no/photo.jpg",
            "userId": "106262860855271349643"
          }
        }
      },
      "cell_type": "code",
      "source": [
        "y_pred_submission[-5:]"
      ],
      "execution_count": 47,
      "outputs": [
        {
          "output_type": "execute_result",
          "data": {
            "text/plain": [
              "array([1, 1, 1, 1, 1], dtype=uint8)"
            ]
          },
          "metadata": {
            "tags": []
          },
          "execution_count": 47
        }
      ]
    },
    {
      "metadata": {
        "id": "YawKyjnfr5wc",
        "colab_type": "code",
        "colab": {
          "autoexec": {
            "startup": false,
            "wait_interval": 0
          }
        }
      },
      "cell_type": "code",
      "source": [
        "Prediction_Submit = pd.DataFrame(y_pred_submission)"
      ],
      "execution_count": 0,
      "outputs": []
    },
    {
      "metadata": {
        "id": "Lu8N0P84waO2",
        "colab_type": "code",
        "colab": {
          "autoexec": {
            "startup": false,
            "wait_interval": 0
          },
          "base_uri": "https://localhost:8080/",
          "height": 34
        },
        "outputId": "fd6cebb9-431e-4562-cef7-2e12356cab08",
        "executionInfo": {
          "status": "ok",
          "timestamp": 1533483851217,
          "user_tz": -330,
          "elapsed": 922,
          "user": {
            "displayName": "Abhijit Barman",
            "photoUrl": "//lh5.googleusercontent.com/-zlv3TDMtHqA/AAAAAAAAAAI/AAAAAAAAADA/CWXeoPl9uA4/s50-c-k-no/photo.jpg",
            "userId": "106262860855271349643"
          }
        }
      },
      "cell_type": "code",
      "source": [
        "type(pd.DataFrame(data_test.User_ID))"
      ],
      "execution_count": 65,
      "outputs": [
        {
          "output_type": "execute_result",
          "data": {
            "text/plain": [
              "pandas.core.frame.DataFrame"
            ]
          },
          "metadata": {
            "tags": []
          },
          "execution_count": 65
        }
      ]
    },
    {
      "metadata": {
        "id": "Z4Gt9mPMwrUv",
        "colab_type": "code",
        "colab": {
          "autoexec": {
            "startup": false,
            "wait_interval": 0
          },
          "base_uri": "https://localhost:8080/",
          "height": 204
        },
        "outputId": "8cfc82fb-baab-4c1e-d04d-c85d843220fe",
        "executionInfo": {
          "status": "ok",
          "timestamp": 1533483936014,
          "user_tz": -330,
          "elapsed": 1142,
          "user": {
            "displayName": "Abhijit Barman",
            "photoUrl": "//lh5.googleusercontent.com/-zlv3TDMtHqA/AAAAAAAAAAI/AAAAAAAAADA/CWXeoPl9uA4/s50-c-k-no/photo.jpg",
            "userId": "106262860855271349643"
          }
        }
      },
      "cell_type": "code",
      "source": [
        "final = pd.concat([pd.DataFrame(data_test.User_ID),Prediction_Submit], axis=1)\n",
        "final.head()\n"
      ],
      "execution_count": 67,
      "outputs": [
        {
          "output_type": "execute_result",
          "data": {
            "text/html": [
              "<div>\n",
              "<style scoped>\n",
              "    .dataframe tbody tr th:only-of-type {\n",
              "        vertical-align: middle;\n",
              "    }\n",
              "\n",
              "    .dataframe tbody tr th {\n",
              "        vertical-align: top;\n",
              "    }\n",
              "\n",
              "    .dataframe thead th {\n",
              "        text-align: right;\n",
              "    }\n",
              "</style>\n",
              "<table border=\"1\" class=\"dataframe\">\n",
              "  <thead>\n",
              "    <tr style=\"text-align: right;\">\n",
              "      <th></th>\n",
              "      <th>User_ID</th>\n",
              "      <th>0</th>\n",
              "    </tr>\n",
              "  </thead>\n",
              "  <tbody>\n",
              "    <tr>\n",
              "      <th>0</th>\n",
              "      <td>9602</td>\n",
              "      <td>0</td>\n",
              "    </tr>\n",
              "    <tr>\n",
              "      <th>1</th>\n",
              "      <td>8749</td>\n",
              "      <td>1</td>\n",
              "    </tr>\n",
              "    <tr>\n",
              "      <th>2</th>\n",
              "      <td>15500</td>\n",
              "      <td>1</td>\n",
              "    </tr>\n",
              "    <tr>\n",
              "      <th>3</th>\n",
              "      <td>5495</td>\n",
              "      <td>1</td>\n",
              "    </tr>\n",
              "    <tr>\n",
              "      <th>4</th>\n",
              "      <td>18570</td>\n",
              "      <td>1</td>\n",
              "    </tr>\n",
              "  </tbody>\n",
              "</table>\n",
              "</div>"
            ],
            "text/plain": [
              "   User_ID  0\n",
              "0     9602  0\n",
              "1     8749  1\n",
              "2    15500  1\n",
              "3     5495  1\n",
              "4    18570  1"
            ]
          },
          "metadata": {
            "tags": []
          },
          "execution_count": 67
        }
      ]
    },
    {
      "metadata": {
        "id": "FQBvw6C60aSU",
        "colab_type": "code",
        "colab": {
          "autoexec": {
            "startup": false,
            "wait_interval": 0
          }
        }
      },
      "cell_type": "code",
      "source": [
        "final.columns = ['User_ID','Is_Response']"
      ],
      "execution_count": 0,
      "outputs": []
    },
    {
      "metadata": {
        "id": "LZPI0DVlyB3n",
        "colab_type": "text"
      },
      "cell_type": "markdown",
      "source": [
        "Save the predictions to a csv file"
      ]
    },
    {
      "metadata": {
        "id": "OocUNEUiw6QY",
        "colab_type": "code",
        "colab": {
          "autoexec": {
            "startup": false,
            "wait_interval": 0
          }
        }
      },
      "cell_type": "code",
      "source": [
        "final.to_csv('Submission.csv',sep='~', index = False)"
      ],
      "execution_count": 0,
      "outputs": []
    },
    {
      "metadata": {
        "id": "6TGzlB1MyIIZ",
        "colab_type": "text"
      },
      "cell_type": "markdown",
      "source": [
        "Download the predictions to local"
      ]
    },
    {
      "metadata": {
        "id": "ffg1fvwZxD6q",
        "colab_type": "code",
        "colab": {
          "autoexec": {
            "startup": false,
            "wait_interval": 0
          }
        }
      },
      "cell_type": "code",
      "source": [
        "from google.colab import files\n",
        "\n",
        "files.download('Submission.csv')"
      ],
      "execution_count": 0,
      "outputs": []
    },
    {
      "metadata": {
        "id": "12IvPyuqqj2X",
        "colab_type": "code",
        "colab": {
          "autoexec": {
            "startup": false,
            "wait_interval": 0
          },
          "base_uri": "https://localhost:8080/",
          "height": 54
        },
        "outputId": "8d5749c4-81e6-4f0f-bf54-e85b25ab0053",
        "executionInfo": {
          "status": "ok",
          "timestamp": 1533482457044,
          "user_tz": -330,
          "elapsed": 1020,
          "user": {
            "displayName": "Abhijit Barman",
            "photoUrl": "//lh5.googleusercontent.com/-zlv3TDMtHqA/AAAAAAAAAAI/AAAAAAAAADA/CWXeoPl9uA4/s50-c-k-no/photo.jpg",
            "userId": "106262860855271349643"
          }
        }
      },
      "cell_type": "code",
      "source": [
        "data_test['Description'][8757]"
      ],
      "execution_count": 49,
      "outputs": [
        {
          "output_type": "execute_result",
          "data": {
            "text/plain": [
              "'Came to the Alexander Inn, via TripAdvisor. John could not have been more helpful on the phone. His charm, combined with the excellent location of the hotel, and the\\nprevious reviews, sealed the deal for me. Our room was on the -th floor, with super \\nviews, and a comfy, firm bed. The included breakfast was much appreciated. We could \\nwalk both to the South St area, and convention center with ease.'"
            ]
          },
          "metadata": {
            "tags": []
          },
          "execution_count": 49
        }
      ]
    },
    {
      "metadata": {
        "id": "joZQ-VzTqjz-",
        "colab_type": "code",
        "colab": {
          "autoexec": {
            "startup": false,
            "wait_interval": 0
          }
        }
      },
      "cell_type": "code",
      "source": [
        ""
      ],
      "execution_count": 0,
      "outputs": []
    }
  ]
}